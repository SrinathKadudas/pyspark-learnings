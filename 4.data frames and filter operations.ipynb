{
 "cells": [
  {
   "cell_type": "markdown",
   "id": "67c98db0",
   "metadata": {},
   "source": [
    "## Pyspark dataframes"
   ]
  },
  {
   "cell_type": "code",
   "execution_count": 1,
   "id": "05f15af5",
   "metadata": {},
   "outputs": [],
   "source": [
    "from pyspark.sql import SparkSession"
   ]
  },
  {
   "cell_type": "code",
   "execution_count": 2,
   "id": "5abcfd66",
   "metadata": {},
   "outputs": [],
   "source": [
    "spark = SparkSession.builder.appName('dataframe').getOrCreate()"
   ]
  },
  {
   "cell_type": "code",
   "execution_count": 4,
   "id": "9d9da017",
   "metadata": {},
   "outputs": [
    {
     "name": "stdout",
     "output_type": "stream",
     "text": [
      "+-------+----+----------+------+\n",
      "|   name| age|experience|salary|\n",
      "+-------+----+----------+------+\n",
      "|srinath|  32|         4| 10000|\n",
      "|    kad|  31|         5| 62613|\n",
      "|    das|   3|         2| 51658|\n",
      "|    dad|  45|        23| 96512|\n",
      "|    mom|NULL|        22| 13585|\n",
      "| dravid|  88|        32|  NULL|\n",
      "|   NULL|  64|      NULL| 65465|\n",
      "| sachin|NULL|        39| 65489|\n",
      "|  dhoni|  22|      NULL| 33333|\n",
      "|  aabbc|NULL|      NULL|  NULL|\n",
      "+-------+----+----------+------+\n",
      "\n"
     ]
    }
   ],
   "source": [
    "df_pyspark = spark.read.csv('age_1.csv',header = True, inferSchema = True)\n",
    "df_pyspark.show()"
   ]
  },
  {
   "cell_type": "markdown",
   "id": "e87f0b9a",
   "metadata": {},
   "source": [
    "## filter opeartions"
   ]
  },
  {
   "cell_type": "code",
   "execution_count": 6,
   "id": "986e5460",
   "metadata": {},
   "outputs": [
    {
     "name": "stdout",
     "output_type": "stream",
     "text": [
      "+-------+----+----------+------+\n",
      "|   name| age|experience|salary|\n",
      "+-------+----+----------+------+\n",
      "|srinath|  32|         4| 10000|\n",
      "|    mom|NULL|        22| 13585|\n",
      "+-------+----+----------+------+\n",
      "\n"
     ]
    }
   ],
   "source": [
    "# salary of people less than 20000\n",
    "df_pyspark.filter('salary<20000').show()"
   ]
  },
  {
   "cell_type": "code",
   "execution_count": 7,
   "id": "cda4d453",
   "metadata": {},
   "outputs": [
    {
     "name": "stdout",
     "output_type": "stream",
     "text": [
      "+-------+----+\n",
      "|   name| age|\n",
      "+-------+----+\n",
      "|srinath|  32|\n",
      "|    mom|NULL|\n",
      "+-------+----+\n",
      "\n"
     ]
    }
   ],
   "source": [
    "# if we want selected columns after doing filter then:\n",
    "\n",
    "df_pyspark.filter('salary < 20000').select(['name','age']).show()"
   ]
  },
  {
   "cell_type": "code",
   "execution_count": 9,
   "id": "de90030f",
   "metadata": {},
   "outputs": [
    {
     "name": "stdout",
     "output_type": "stream",
     "text": [
      "+-------+----+----------+------+\n",
      "|   name| age|experience|salary|\n",
      "+-------+----+----------+------+\n",
      "|srinath|  32|         4| 10000|\n",
      "|    kad|  31|         5| 62613|\n",
      "|    das|   3|         2| 51658|\n",
      "|    dad|  45|        23| 96512|\n",
      "| dravid|  88|        32|  NULL|\n",
      "|   NULL|  64|      NULL| 65465|\n",
      "| sachin|NULL|        39| 65489|\n",
      "|  dhoni|  22|      NULL| 33333|\n",
      "+-------+----+----------+------+\n",
      "\n"
     ]
    }
   ],
   "source": [
    "# another way to use filter\n",
    "df_pyspark.filter((df_pyspark['salary']> 20000)|\n",
    "                  (df_pyspark['age']> 30)).show()"
   ]
  },
  {
   "cell_type": "code",
   "execution_count": 10,
   "id": "d425cfa6",
   "metadata": {},
   "outputs": [
    {
     "name": "stdout",
     "output_type": "stream",
     "text": [
      "+----+---+----------+------+\n",
      "|name|age|experience|salary|\n",
      "+----+---+----------+------+\n",
      "| kad| 31|         5| 62613|\n",
      "| dad| 45|        23| 96512|\n",
      "|NULL| 64|      NULL| 65465|\n",
      "+----+---+----------+------+\n",
      "\n"
     ]
    }
   ],
   "source": [
    "# another way to use filter\n",
    "df_pyspark.filter((df_pyspark['salary']> 20000) &\n",
    "                  (df_pyspark['age']> 30)).show()"
   ]
  },
  {
   "cell_type": "code",
   "execution_count": null,
   "id": "1bf89ed1",
   "metadata": {},
   "outputs": [],
   "source": []
  },
  {
   "cell_type": "code",
   "execution_count": null,
   "id": "1597d3d9",
   "metadata": {},
   "outputs": [],
   "source": []
  },
  {
   "cell_type": "code",
   "execution_count": null,
   "id": "ce9e8ee3",
   "metadata": {},
   "outputs": [],
   "source": []
  },
  {
   "cell_type": "code",
   "execution_count": null,
   "id": "f9d06a14",
   "metadata": {},
   "outputs": [],
   "source": []
  }
 ],
 "metadata": {
  "kernelspec": {
   "display_name": "Python 3 (ipykernel)",
   "language": "python",
   "name": "python3"
  },
  "language_info": {
   "codemirror_mode": {
    "name": "ipython",
    "version": 3
   },
   "file_extension": ".py",
   "mimetype": "text/x-python",
   "name": "python",
   "nbconvert_exporter": "python",
   "pygments_lexer": "ipython3",
   "version": "3.11.3"
  }
 },
 "nbformat": 4,
 "nbformat_minor": 5
}
